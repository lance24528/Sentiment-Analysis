{
 "cells": [
  {
   "cell_type": "code",
   "execution_count": null,
   "metadata": {},
   "outputs": [],
   "source": [
    "import numpy as np \n",
    "import pandas as pd\n",
    "import re\n",
    "import nltk\n",
    "import spacy\n",
    "\n",
    "from bs4 import BeautifulSoup\n",
    "from nltk.tokenize import word_tokenize\n",
    "from nltk.corpus import wordnet, stopwords\n",
    "from nltk.stem import WordNetLemmatizer\n",
    "from nltk import pos_tag\n",
    "from textblob import TextBlob, Word\n",
    "\n",
    "# Load spaCy's language model (e.g., English)\n",
    "nlp = spacy.load(\"en_core_web_sm\")\n",
    "nltk.download('stopwords')\n",
    "nltk.download('punkt_tab')\n",
    "\n",
    "dataset = pd.read_csv('C:/Users/Gicano Brothers/Documents/POP Repositories/Sentiment-Analysis/data/raw/IMDB Dataset.csv')"
   ]
  },
  {
   "cell_type": "code",
   "execution_count": null,
   "metadata": {},
   "outputs": [],
   "source": [
    "def clean_text(text):\n",
    "    text = BeautifulSoup(text, \"html.parser\").get_text()  # Removes HTML\n",
    "    text = re.sub(r'[^a-zA-Z\\s]', '', text)  # Keeping only letters\n",
    "    text = text.lower()  # Converts all text to lowercase\n",
    "    text = re.sub(r'\\s+', ' ', text).strip()  # Removes unnecessary spaces \n",
    "    return text\n",
    "\n",
    "dataset['cleaned_review'] = dataset['review'].apply(clean_text) \n",
    "\n",
    "(dataset.head())  # Checking the result of preprocessing done in this cell"
   ]
  },
  {
   "cell_type": "code",
   "execution_count": null,
   "metadata": {},
   "outputs": [],
   "source": [
    "# Wrote this code to check if the NLTK punkt tokenizer is available\n",
    "# Since the cell below wasnt running because in kaggle importing \"punkt\" was enough\n",
    "# I had to download \"punkt_tab\" instead\n",
    "try:\n",
    "    word_tokenize(\"This is a test sentence.\")\n",
    "    print(\"NLTK punkt tokenizer is available!\")\n",
    "except LookupError as e:\n",
    "    print(e)"
   ]
  },
  {
   "cell_type": "code",
   "execution_count": null,
   "metadata": {},
   "outputs": [],
   "source": [
    "stop_words = set(stopwords.words('english'))\n",
    "\n",
    "# Breaking down all the words into individual strings from cleaned_review column\n",
    "# And removing irrelevant words like (of, and, the, is, etc.)\n",
    "def tokenize_text(text):\n",
    "    tokens = word_tokenize(text)\n",
    "    tokens = [word for word in tokens if word not in stop_words]\n",
    "    return tokens\n",
    "\n",
    "dataset['tokenized_review'] = dataset['cleaned_review'].apply(tokenize_text)\n",
    "\n",
    "(dataset.head()) # Checking the result of preprocessing done in this cell"
   ]
  },
  {
   "cell_type": "code",
   "execution_count": null,
   "metadata": {},
   "outputs": [],
   "source": [
    "# Load SpaCy's English model (disable unnecessary components for speed)\n",
    "nlp = spacy.load('en_core_web_sm', disable=[\"parser\", \"ner\"])\n",
    "\n",
    "# Function to lemmatize tokens in batches\n",
    "def lemmatize_in_batches(tokenized_reviews):\n",
    "    # Join tokenized reviews into strings for batch processing\n",
    "    reviews_as_strings = [\" \".join(tokens) for tokens in tokenized_reviews]\n",
    "    # Process in batches using nlp.pipe for efficiency\n",
    "    docs = nlp.pipe(reviews_as_strings, batch_size=1000)\n",
    "    # Extract lemmatized tokens\n",
    "    lemmatized_reviews = [[token.lemma_ for token in doc] for doc in docs]\n",
    "    return lemmatized_reviews\n",
    "\n",
    "# Apply lemmatization in batches to the tokenized_review column\n",
    "dataset['lemmatized_review'] = lemmatize_in_batches(dataset['tokenized_review'])\n",
    "(dataset.head()) # Checking the result of preprocessing done in this cell"
   ]
  }
 ],
 "metadata": {
  "kernelspec": {
   "display_name": ".venv",
   "language": "python",
   "name": "python3"
  },
  "language_info": {
   "codemirror_mode": {
    "name": "ipython",
    "version": 3
   },
   "file_extension": ".py",
   "mimetype": "text/x-python",
   "name": "python",
   "nbconvert_exporter": "python",
   "pygments_lexer": "ipython3",
   "version": "3.12.4"
  }
 },
 "nbformat": 4,
 "nbformat_minor": 2
}
